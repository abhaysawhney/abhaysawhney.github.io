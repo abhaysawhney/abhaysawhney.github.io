{
 "cells": [
  {
   "cell_type": "code",
   "execution_count": 1,
   "metadata": {},
   "outputs": [],
   "source": [
    "#IMPORT LIBRARIES"
   ]
  },
  {
   "cell_type": "code",
   "execution_count": 2,
   "metadata": {},
   "outputs": [],
   "source": [
    "import os; import pandas as pd; import numpy as np"
   ]
  },
  {
   "cell_type": "code",
   "execution_count": 3,
   "metadata": {},
   "outputs": [],
   "source": [
    "#LOAD DATA"
   ]
  },
  {
   "cell_type": "code",
   "execution_count": 4,
   "metadata": {},
   "outputs": [
    {
     "name": "stderr",
     "output_type": "stream",
     "text": [
      "C:\\Users\\scienaptic\\Anaconda3\\lib\\site-packages\\IPython\\core\\interactiveshell.py:2785: DtypeWarning: Columns (722,771,787,788,924,933,940,949,1156) have mixed types. Specify dtype option on import or set low_memory=False.\n",
      "  interactivity=interactivity, compiler=compiler, result=result)\n",
      "C:\\Users\\scienaptic\\Anaconda3\\lib\\site-packages\\IPython\\core\\interactiveshell.py:2785: DtypeWarning: Columns (986,1155) have mixed types. Specify dtype option on import or set low_memory=False.\n",
      "  interactivity=interactivity, compiler=compiler, result=result)\n"
     ]
    }
   ],
   "source": [
    "dataset = pd.read_csv('model_cm_60_r.csv')     #dataset with 60 variables\n",
    "oot = pd.read_csv('out_of_sample_cm.csv')\n",
    "\n",
    "backup = dataset\n",
    "backup2 = oot"
   ]
  },
  {
   "cell_type": "code",
   "execution_count": null,
   "metadata": {},
   "outputs": [],
   "source": []
  },
  {
   "cell_type": "code",
   "execution_count": 233,
   "metadata": {},
   "outputs": [],
   "source": [
    "#START RUNNING CODE FROM HERE\n",
    "\n",
    "dataset = backup\n",
    "oot = backup2"
   ]
  },
  {
   "cell_type": "code",
   "execution_count": null,
   "metadata": {},
   "outputs": [],
   "source": []
  },
  {
   "cell_type": "code",
   "execution_count": 234,
   "metadata": {},
   "outputs": [],
   "source": [
    "#remove INF and NaNs, replace with special value\n",
    "\n",
    "dataset = dataset.replace([np.inf, -np.inf], np.nan)\n",
    "dataset = dataset.fillna(-999)\n",
    "oot = oot.replace([np.inf, -np.inf], np.nan)\n",
    "oot = oot.fillna(-999)"
   ]
  },
  {
   "cell_type": "code",
   "execution_count": 235,
   "metadata": {},
   "outputs": [],
   "source": [
    "#select columns for data vs target\n",
    "data = dataset.columns.intersection(oot.columns)\n",
    "data = data.drop('target')  #remove target from training columns\n",
    "data = data.drop('new_id')\n",
    "data = data.drop('col3_colStatus')"
   ]
  },
  {
   "cell_type": "code",
   "execution_count": 236,
   "metadata": {},
   "outputs": [],
   "source": [
    "#use dummy encoder to convert categorical variables to indicators\n",
    "\n",
    "nonNumeric = data.drop(dataset[data].select_dtypes('number').columns)\n",
    "\n",
    "dataNon = dataset[nonNumeric]\n",
    "ootNon = oot[nonNumeric]\n",
    "\n",
    "dataDummy = pd.get_dummies(dataNon)\n",
    "ootDummy = pd.get_dummies(ootNon)\n",
    "\n",
    "common = dataDummy.columns.intersection(ootDummy.columns) #to make sure they have the same columns\n",
    "dataDummy = dataDummy[common] \n",
    "ootDummy = ootDummy[common]"
   ]
  },
  {
   "cell_type": "code",
   "execution_count": 237,
   "metadata": {},
   "outputs": [],
   "source": [
    "#replace categorical variables with indicator variables \n",
    "\n",
    "dataset = dataset.drop(columns=nonNumeric)\n",
    "oot = oot.drop(columns=nonNumeric)\n",
    "\n",
    "dataset[dataDummy.columns] = dataDummy\n",
    "oot[ootDummy.columns] = ootDummy"
   ]
  },
  {
   "cell_type": "code",
   "execution_count": 238,
   "metadata": {},
   "outputs": [],
   "source": [
    "#update data then proceed to model\n",
    "\n",
    "data = dataset.columns.intersection(oot.columns)\n",
    "data = data.drop(['target', 'new_id', 'col3_colStatus'])"
   ]
  },
  {
   "cell_type": "code",
   "execution_count": 239,
   "metadata": {},
   "outputs": [
    {
     "data": {
      "text/plain": [
       "(36709, 1847)"
      ]
     },
     "execution_count": 239,
     "metadata": {},
     "output_type": "execute_result"
    }
   ],
   "source": [
    "#sanity check\n",
    "\n",
    "dataset.shape "
   ]
  },
  {
   "cell_type": "code",
   "execution_count": null,
   "metadata": {},
   "outputs": [],
   "source": []
  },
  {
   "cell_type": "code",
   "execution_count": 604,
   "metadata": {},
   "outputs": [],
   "source": [
    "#perform feature selection\n",
    "\n",
    "from sklearn.feature_selection import SelectFromModel\n",
    "from sklearn.svm import LinearSVC"
   ]
  },
  {
   "cell_type": "code",
   "execution_count": 605,
   "metadata": {},
   "outputs": [],
   "source": [
    "lsvc = LinearSVC(C=0.0002, penalty=\"l1\", dual=False, random_state=42).fit(dataset[data], dataset['target'])\n",
    "select = SelectFromModel(lsvc, prefit=True)"
   ]
  },
  {
   "cell_type": "code",
   "execution_count": 606,
   "metadata": {},
   "outputs": [
    {
     "data": {
      "text/plain": [
       "(36709, 135)"
      ]
     },
     "execution_count": 606,
     "metadata": {},
     "output_type": "execute_result"
    }
   ],
   "source": [
    "datareduced = select.transform(dataset[data])\n",
    "datareduced.shape"
   ]
  },
  {
   "cell_type": "code",
   "execution_count": null,
   "metadata": {},
   "outputs": [],
   "source": [
    " "
   ]
  },
  {
   "cell_type": "code",
   "execution_count": 607,
   "metadata": {},
   "outputs": [],
   "source": [
    "#   4-STEP MODELLING PROCESS: IMPORT WHICH MODEL, MAKE INSTANCE OF MODEL, TRAIN USING FIT, PREDICT LABELS OF TESTDATA"
   ]
  },
  {
   "cell_type": "code",
   "execution_count": 608,
   "metadata": {},
   "outputs": [],
   "source": [
    "import sklearn.linear_model as skl"
   ]
  },
  {
   "cell_type": "code",
   "execution_count": 609,
   "metadata": {},
   "outputs": [],
   "source": [
    "logit = skl.LogisticRegression(penalty='l1', random_state=42, C=0.001)"
   ]
  },
  {
   "cell_type": "code",
   "execution_count": 610,
   "metadata": {},
   "outputs": [],
   "source": [
    "# model = logit.fit(dataset[data], dataset['target'])\n",
    "model = logit.fit(datareduced, dataset['target'])"
   ]
  },
  {
   "cell_type": "code",
   "execution_count": null,
   "metadata": {},
   "outputs": [],
   "source": []
  },
  {
   "cell_type": "code",
   "execution_count": 620,
   "metadata": {},
   "outputs": [],
   "source": [
    "#assign data for testing\n",
    "\n",
    "test = dataset\n",
    "\n",
    "testData = select.transform(test[data])\n",
    "testTarget = test['target']"
   ]
  },
  {
   "cell_type": "code",
   "execution_count": 621,
   "metadata": {},
   "outputs": [],
   "source": [
    "prediction = model.predict_proba(testData)[:,1]     #predict probabilities, for ROC and KS"
   ]
  },
  {
   "cell_type": "code",
   "execution_count": null,
   "metadata": {},
   "outputs": [],
   "source": []
  },
  {
   "cell_type": "code",
   "execution_count": 622,
   "metadata": {},
   "outputs": [],
   "source": [
    "#EVALUATE MODEL USING METRICS"
   ]
  },
  {
   "cell_type": "code",
   "execution_count": 623,
   "metadata": {},
   "outputs": [
    {
     "data": {
      "text/plain": [
       "0.728752252913888"
      ]
     },
     "execution_count": 623,
     "metadata": {},
     "output_type": "execute_result"
    }
   ],
   "source": [
    "from sklearn.metrics import roc_auc_score\n",
    "from sklearn.metrics import roc_curve\n",
    "from sklearn.metrics import auc\n",
    "import matplotlib.pyplot as plt\n",
    "\n",
    "\n",
    "fpr, tpr, threshold = roc_curve(testTarget, prediction) \n",
    "roc_auc = auc(fpr,tpr)\n",
    "roc_auc_score(testTarget, prediction)"
   ]
  },
  {
   "cell_type": "code",
   "execution_count": 624,
   "metadata": {},
   "outputs": [
    {
     "data": {
      "image/png": "[encoded data removed]",
      "text/plain": [
       "<Figure size 432x288 with 1 Axes>"
      ]
     },
     "metadata": {},
     "output_type": "display_data"
    }
   ],
   "source": [
    "plt.title('Receiver Operating Characteristic')\n",
    "plt.plot(fpr, tpr, 'b', label = 'AUC = %0.2f' % roc_auc)\n",
    "plt.legend(loc = 'lower right')\n",
    "plt.plot([0, 1], [0, 1],'r--')\n",
    "plt.xlim([0, 1])\n",
    "plt.ylim([0, 1])\n",
    "plt.ylabel('True Positive Rate')\n",
    "plt.xlabel('False Positive Rate')\n",
    "plt.show() "
   ]
  },
  {
   "cell_type": "code",
   "execution_count": 625,
   "metadata": {},
   "outputs": [],
   "source": [
    "predictLabels = model.predict(testData)    #predict labels directly, for accuracy_score"
   ]
  },
  {
   "cell_type": "code",
   "execution_count": 626,
   "metadata": {},
   "outputs": [
    {
     "data": {
      "text/plain": [
       "0.8777411533956251"
      ]
     },
     "execution_count": 626,
     "metadata": {},
     "output_type": "execute_result"
    }
   ],
   "source": [
    "from sklearn.metrics import accuracy_score\n",
    "accuracy_score(testTarget, predictLabels)"
   ]
  },
  {
   "cell_type": "code",
   "execution_count": 627,
   "metadata": {},
   "outputs": [],
   "source": [
    "def rnkOrdering(data, bad_col, score_col, n_bkts):\n",
    "    data['bucket'] = pd.qcut(data[score_col], n_bkts, duplicates='drop')\n",
    "    grouped = data.groupby('bucket', as_index = True)\n",
    "    agg1 = grouped[score_col].min()\n",
    "    agg2 = grouped[score_col].max()\n",
    "    agg3 = grouped[bad_col].count()\n",
    "    agg4 = grouped[bad_col].sum()\n",
    "    agg5 = np.round(grouped[score_col].mean()*100,2)\n",
    "    \n",
    "    ret_tbl = pd.DataFrame({\"min_score\":agg1, \"max_score\":agg2, \"total\":agg3, \"Bads\":agg4, \"Mean_Score\":agg5})\n",
    "    ret_tbl[\"Goods\"] = ret_tbl[\"total\"] - ret_tbl[\"Bads\"]\n",
    "    ret_tbl[\"Bad_Rate\"] = np.round(ret_tbl[\"Bads\"]/ret_tbl[\"total\"], 4)*100\n",
    "    ret_tbl = ret_tbl.sort_index(axis=0, ascending=False)\n",
    "    ret_tbl.index = range(n_bkts)\n",
    "    \n",
    "    ret_tbl[\"Cum_Bad\"] = np.round((ret_tbl.Bads / ret_tbl.Bads.sum()).cumsum(), 4)*100\n",
    "    ret_tbl[\"Cum_Good\"] = np.round((ret_tbl.Goods / ret_tbl.Goods.sum()).cumsum(), 4)*100\n",
    "    ret_tbl['KS'] = np.abs(ret_tbl[\"Cum_Bad\"] - ret_tbl[\"Cum_Good\"])\n",
    "    \n",
    "    gini = ret_tbl[\"Cum_Bad\"][0]*ret_tbl[\"Cum_Good\"][0]/(2*100*100)\n",
    "    for i in range(1,n_bkts):\n",
    "        gini += (ret_tbl[\"Cum_Bad\"][i] + ret_tbl[\"Cum_Bad\"][i-1])*(ret_tbl[\"Cum_Good\"][i] - \n",
    "                                                                   ret_tbl[\"Cum_Good\"][i-1])/(2*100*100)\n",
    "    gini = np.round(2.*gini - 1., 4)*100\n",
    "    \n",
    "    ks = np.round(ret_tbl.KS.max(), 2)\n",
    "    \n",
    "    coltitles = [\"min_score\", \"max_score\", \"Mean_Score\", \"total\", \"Goods\", \"Bads\", \"Bad_Rate\", \"Cum_Bad\", \"KS\"]\n",
    "    \n",
    "    return ret_tbl[coltitles], {\"Gini\":gini, \"KS\":ks}"
   ]
  },
  {
   "cell_type": "code",
   "execution_count": 628,
   "metadata": {},
   "outputs": [
    {
     "name": "stdout",
     "output_type": "stream",
     "text": [
      "(   min_score  max_score  Mean_Score  total  Goods  Bads  Bad_Rate  Cum_Bad  \\\n",
      "0   0.236722   0.968480       32.60   3671   2471  1200     32.69    26.61   \n",
      "1   0.177421   0.236719       20.33   3671   2914   757     20.62    43.39   \n",
      "2   0.144363   0.177407       15.96   3671   3000   671     18.28    58.27   \n",
      "3   0.120241   0.144362       13.18   3671   3155   516     14.06    69.71   \n",
      "4   0.100701   0.120239       11.02   3670   3279   391     10.65    78.38   \n",
      "5   0.083956   0.100697        9.22   3671   3341   330      8.99    85.70   \n",
      "6   0.067632   0.083954        7.59   3671   3413   258      7.03    91.42   \n",
      "7   0.051490   0.067630        5.96   3671   3476   195      5.31    95.74   \n",
      "8   0.035815   0.051488        4.39   3671   3557   114      3.11    98.27   \n",
      "9   0.002128   0.035814        2.57   3671   3593    78      2.12   100.00   \n",
      "\n",
      "      KS  \n",
      "0  18.94  \n",
      "1  26.67  \n",
      "2  32.23  \n",
      "3  33.87  \n",
      "4  32.36  \n",
      "5  29.30  \n",
      "6  24.42  \n",
      "7  17.95  \n",
      "8   9.43  \n",
      "9   0.00  , {'Gini': 45.03, 'KS': 33.87})\n"
     ]
    }
   ],
   "source": [
    "testDF = pd.DataFrame(testData)\n",
    "testDF['Bad'] = testTarget\n",
    "testDF['Pred_Prob'] = prediction\n",
    "\n",
    "print(rnkOrdering(testDF, \"Bad\", \"Pred_Prob\", 10))"
   ]
  },
  {
   "cell_type": "code",
   "execution_count": null,
   "metadata": {},
   "outputs": [],
   "source": []
  },
  {
   "cell_type": "code",
   "execution_count": null,
   "metadata": {},
   "outputs": [],
   "source": []
  },
  {
   "cell_type": "code",
   "execution_count": null,
   "metadata": {},
   "outputs": [],
   "source": []
  }
 ],
 "metadata": {
  "kernelspec": {
   "display_name": "Python 3",
   "language": "python",
   "name": "python3"
  },
  "language_info": {
   "codemirror_mode": {
    "name": "ipython",
    "version": 3
   },
   "file_extension": ".py",
   "mimetype": "text/x-python",
   "name": "python",
   "nbconvert_exporter": "python",
   "pygments_lexer": "ipython3",
   "version": "3.6.5"
  }
 },
 "nbformat": 4,
 "nbformat_minor": 2
}
